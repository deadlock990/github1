{
 "cells": [
  {
   "cell_type": "markdown",
   "metadata": {},
   "source": [
    "<h1> 1. Introduction </h1>"
   ]
  },
  {
   "cell_type": "markdown",
   "metadata": {},
   "source": [
    "<h3> Background </h3>"
   ]
  },
  {
   "cell_type": "markdown",
   "metadata": {},
   "source": [
    "<body> When people go on trips to various countries, something on their mind is the safety of the place they will be visiting.  All too often when traveling within a city we may come across an area we wish to quickly vacate from.  This can change the outlook we had concerning that city and may stain our view on the city and make us never want to visit again.  Reviewing data before going to a city or to certain sections of a city can help plan a trip and make the trip overall enjoyable.  I am going to check the crime rate in London to determine how high it is using data from 2008 to 2016.  This will be done by going through \n",
    "    each of the boroughs of London and then determining which borough is the safest neighborhood. This can help someone who is looking to visit London to determine which areas are considered the safest or for someone reviewing crime statistics throughout London to determine the borough that has the highest. </body>"
   ]
  },
  {
   "cell_type": "code",
   "execution_count": 1,
   "metadata": {},
   "outputs": [
    {
     "ename": "SyntaxError",
     "evalue": "invalid syntax (<ipython-input-1-e5df55e3e614>, line 1)",
     "output_type": "error",
     "traceback": [
      "\u001b[0;36m  File \u001b[0;32m\"<ipython-input-1-e5df55e3e614>\"\u001b[0;36m, line \u001b[0;32m1\u001b[0m\n\u001b[0;31m    <body> I am going to check the crime rate in London to determine how high it is using data from 2008 to 2016.  This will be done by going through\u001b[0m\n\u001b[0m    ^\u001b[0m\n\u001b[0;31mSyntaxError\u001b[0m\u001b[0;31m:\u001b[0m invalid syntax\n"
     ]
    }
   ],
   "source": []
  },
  {
   "cell_type": "code",
   "execution_count": null,
   "metadata": {},
   "outputs": [],
   "source": []
  }
 ],
 "metadata": {
  "kernelspec": {
   "display_name": "Python",
   "language": "python",
   "name": "conda-env-python-py"
  },
  "language_info": {
   "codemirror_mode": {
    "name": "ipython",
    "version": 3
   },
   "file_extension": ".py",
   "mimetype": "text/x-python",
   "name": "python",
   "nbconvert_exporter": "python",
   "pygments_lexer": "ipython3",
   "version": "3.6.10"
  }
 },
 "nbformat": 4,
 "nbformat_minor": 4
}
